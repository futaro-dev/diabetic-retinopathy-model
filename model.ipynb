{
 "cells": [
  {
   "cell_type": "markdown",
   "id": "ba21a492",
   "metadata": {},
   "source": [
    "# Diabetic Retinopathy"
   ]
  },
  {
   "cell_type": "markdown",
   "id": "bcd26aab",
   "metadata": {},
   "source": [
    "## Information"
   ]
  },
  {
   "cell_type": "markdown",
   "id": "20c1a082",
   "metadata": {},
   "source": [
    "### Diabetic Retinopathy\n",
    "\n",
    "It is a complication of diabetes, casued by high blood sugar levels damaging the back of the eye (retina). It can cause blindness if left undiagnosed and untreated. \n",
    "(https://www.nhs.uk/conditions/diabetic-retinopathy/)"
   ]
  },
  {
   "cell_type": "markdown",
   "id": "939f5d4d",
   "metadata": {},
   "source": [
    "### Data Set Description\n",
    "\n",
    "This dataset contains features extracted from the Messidor image set to predict whether an image contains signs of diabetic retinopathy or not. All features represent either a detected lesion, a descriptive feature of a anatomical part or an image-level descriptor."
   ]
  },
  {
   "cell_type": "markdown",
   "id": "74ea2926",
   "metadata": {},
   "source": [
    "### Attribute Information\n",
    "\n",
    "A) The binary result of quality assessment. 0 = bad quality 1 = sufficient quality.\n",
    "\n",
    "B) The binary result of pre-screening, where 1 indicates severe retinal abnormality and 0 its lack.\n",
    "\n",
    "C - H) The results of MA (microaneurysm) detection. Each feature value stand for the number of MAs found at the confidence levels alpha = 0.5, . . . , 1, respectively.\n",
    "\n",
    "I - P) contain the same information as C-H) for exudates. However,\n",
    "as exudates are represented by a set of points rather than the number of\n",
    "pixels constructing the lesions, these features are normalized by dividing the\n",
    "number of lesions with the diameter of the ROI to compensate different image\n",
    "sizes.\n",
    "\n",
    "Q) The euclidean distance of the center of the macula and the center of the optic disc to provide important information regarding the patient's condition. This feature is also normalized with the diameter of the ROI.\n",
    "\n",
    "R) The diameter of the optic disc.\n",
    "\n",
    "S) The binary result of the AM/FM-based classification.\n",
    "\n",
    "T) Class label. 1 = contains signs of DR (Accumulative label for the Messidor classes 1, 2, 3), 0 = no signs of DR."
   ]
  },
  {
   "cell_type": "markdown",
   "id": "13cf1146",
   "metadata": {},
   "source": [
    "## Model - Logistic Regression"
   ]
  },
  {
   "cell_type": "markdown",
   "id": "42665e8a",
   "metadata": {},
   "source": [
    "### Import required libraries"
   ]
  },
  {
   "cell_type": "code",
   "execution_count": 117,
   "id": "acb050e4",
   "metadata": {},
   "outputs": [],
   "source": [
    "import numpy as np\n",
    "import pandas as pd"
   ]
  },
  {
   "cell_type": "markdown",
   "id": "5522bc82",
   "metadata": {},
   "source": [
    "### Read the CSV file"
   ]
  },
  {
   "cell_type": "code",
   "execution_count": 118,
   "id": "e1466b31",
   "metadata": {
    "scrolled": true
   },
   "outputs": [
    {
     "data": {
      "text/html": [
       "<div>\n",
       "<style scoped>\n",
       "    .dataframe tbody tr th:only-of-type {\n",
       "        vertical-align: middle;\n",
       "    }\n",
       "\n",
       "    .dataframe tbody tr th {\n",
       "        vertical-align: top;\n",
       "    }\n",
       "\n",
       "    .dataframe thead th {\n",
       "        text-align: right;\n",
       "    }\n",
       "</style>\n",
       "<table border=\"1\" class=\"dataframe\">\n",
       "  <thead>\n",
       "    <tr style=\"text-align: right;\">\n",
       "      <th></th>\n",
       "      <th>A</th>\n",
       "      <th>B</th>\n",
       "      <th>C</th>\n",
       "      <th>D</th>\n",
       "      <th>E</th>\n",
       "      <th>F</th>\n",
       "      <th>G</th>\n",
       "      <th>H</th>\n",
       "      <th>I</th>\n",
       "      <th>J</th>\n",
       "      <th>K</th>\n",
       "      <th>L</th>\n",
       "      <th>M</th>\n",
       "      <th>N</th>\n",
       "      <th>O</th>\n",
       "      <th>P</th>\n",
       "      <th>Q</th>\n",
       "      <th>R</th>\n",
       "      <th>S</th>\n",
       "      <th>T</th>\n",
       "    </tr>\n",
       "  </thead>\n",
       "  <tbody>\n",
       "    <tr>\n",
       "      <th>0</th>\n",
       "      <td>1</td>\n",
       "      <td>1</td>\n",
       "      <td>22</td>\n",
       "      <td>22</td>\n",
       "      <td>22</td>\n",
       "      <td>19</td>\n",
       "      <td>18</td>\n",
       "      <td>14</td>\n",
       "      <td>49.895756</td>\n",
       "      <td>17.775994</td>\n",
       "      <td>5.270920</td>\n",
       "      <td>0.771761</td>\n",
       "      <td>0.018632</td>\n",
       "      <td>0.006864</td>\n",
       "      <td>0.003923</td>\n",
       "      <td>0.003923</td>\n",
       "      <td>0.486903</td>\n",
       "      <td>0.100025</td>\n",
       "      <td>1</td>\n",
       "      <td>0</td>\n",
       "    </tr>\n",
       "    <tr>\n",
       "      <th>1</th>\n",
       "      <td>1</td>\n",
       "      <td>1</td>\n",
       "      <td>24</td>\n",
       "      <td>24</td>\n",
       "      <td>22</td>\n",
       "      <td>18</td>\n",
       "      <td>16</td>\n",
       "      <td>13</td>\n",
       "      <td>57.709936</td>\n",
       "      <td>23.799994</td>\n",
       "      <td>3.325423</td>\n",
       "      <td>0.234185</td>\n",
       "      <td>0.003903</td>\n",
       "      <td>0.003903</td>\n",
       "      <td>0.003903</td>\n",
       "      <td>0.003903</td>\n",
       "      <td>0.520908</td>\n",
       "      <td>0.144414</td>\n",
       "      <td>0</td>\n",
       "      <td>0</td>\n",
       "    </tr>\n",
       "    <tr>\n",
       "      <th>2</th>\n",
       "      <td>1</td>\n",
       "      <td>1</td>\n",
       "      <td>62</td>\n",
       "      <td>60</td>\n",
       "      <td>59</td>\n",
       "      <td>54</td>\n",
       "      <td>47</td>\n",
       "      <td>33</td>\n",
       "      <td>55.831441</td>\n",
       "      <td>27.993933</td>\n",
       "      <td>12.687485</td>\n",
       "      <td>4.852282</td>\n",
       "      <td>1.393889</td>\n",
       "      <td>0.373252</td>\n",
       "      <td>0.041817</td>\n",
       "      <td>0.007744</td>\n",
       "      <td>0.530904</td>\n",
       "      <td>0.128548</td>\n",
       "      <td>0</td>\n",
       "      <td>1</td>\n",
       "    </tr>\n",
       "    <tr>\n",
       "      <th>3</th>\n",
       "      <td>1</td>\n",
       "      <td>1</td>\n",
       "      <td>55</td>\n",
       "      <td>53</td>\n",
       "      <td>53</td>\n",
       "      <td>50</td>\n",
       "      <td>43</td>\n",
       "      <td>31</td>\n",
       "      <td>40.467228</td>\n",
       "      <td>18.445954</td>\n",
       "      <td>9.118901</td>\n",
       "      <td>3.079428</td>\n",
       "      <td>0.840261</td>\n",
       "      <td>0.272434</td>\n",
       "      <td>0.007653</td>\n",
       "      <td>0.001531</td>\n",
       "      <td>0.483284</td>\n",
       "      <td>0.114790</td>\n",
       "      <td>0</td>\n",
       "      <td>0</td>\n",
       "    </tr>\n",
       "    <tr>\n",
       "      <th>4</th>\n",
       "      <td>1</td>\n",
       "      <td>1</td>\n",
       "      <td>44</td>\n",
       "      <td>44</td>\n",
       "      <td>44</td>\n",
       "      <td>41</td>\n",
       "      <td>39</td>\n",
       "      <td>27</td>\n",
       "      <td>18.026254</td>\n",
       "      <td>8.570709</td>\n",
       "      <td>0.410381</td>\n",
       "      <td>0.000000</td>\n",
       "      <td>0.000000</td>\n",
       "      <td>0.000000</td>\n",
       "      <td>0.000000</td>\n",
       "      <td>0.000000</td>\n",
       "      <td>0.475935</td>\n",
       "      <td>0.123572</td>\n",
       "      <td>0</td>\n",
       "      <td>1</td>\n",
       "    </tr>\n",
       "  </tbody>\n",
       "</table>\n",
       "</div>"
      ],
      "text/plain": [
       "   A  B   C   D   E   F   G   H          I          J          K         L  \\\n",
       "0  1  1  22  22  22  19  18  14  49.895756  17.775994   5.270920  0.771761   \n",
       "1  1  1  24  24  22  18  16  13  57.709936  23.799994   3.325423  0.234185   \n",
       "2  1  1  62  60  59  54  47  33  55.831441  27.993933  12.687485  4.852282   \n",
       "3  1  1  55  53  53  50  43  31  40.467228  18.445954   9.118901  3.079428   \n",
       "4  1  1  44  44  44  41  39  27  18.026254   8.570709   0.410381  0.000000   \n",
       "\n",
       "          M         N         O         P         Q         R  S  T  \n",
       "0  0.018632  0.006864  0.003923  0.003923  0.486903  0.100025  1  0  \n",
       "1  0.003903  0.003903  0.003903  0.003903  0.520908  0.144414  0  0  \n",
       "2  1.393889  0.373252  0.041817  0.007744  0.530904  0.128548  0  1  \n",
       "3  0.840261  0.272434  0.007653  0.001531  0.483284  0.114790  0  0  \n",
       "4  0.000000  0.000000  0.000000  0.000000  0.475935  0.123572  0  1  "
      ]
     },
     "execution_count": 118,
     "metadata": {},
     "output_type": "execute_result"
    }
   ],
   "source": [
    "raw_data = pd.read_csv(\"data.csv\")\n",
    "raw_data.head()"
   ]
  },
  {
   "cell_type": "code",
   "execution_count": 119,
   "id": "ef3ff473",
   "metadata": {},
   "outputs": [
    {
     "name": "stdout",
     "output_type": "stream",
     "text": [
      "<class 'pandas.core.frame.DataFrame'>\n",
      "RangeIndex: 1150 entries, 0 to 1149\n",
      "Data columns (total 20 columns):\n",
      " #   Column  Non-Null Count  Dtype  \n",
      "---  ------  --------------  -----  \n",
      " 0   A       1150 non-null   int64  \n",
      " 1   B       1150 non-null   int64  \n",
      " 2   C       1150 non-null   int64  \n",
      " 3   D       1150 non-null   int64  \n",
      " 4   E       1150 non-null   int64  \n",
      " 5   F       1150 non-null   int64  \n",
      " 6   G       1150 non-null   int64  \n",
      " 7   H       1150 non-null   int64  \n",
      " 8   I       1150 non-null   float64\n",
      " 9   J       1150 non-null   float64\n",
      " 10  K       1150 non-null   float64\n",
      " 11  L       1150 non-null   float64\n",
      " 12  M       1150 non-null   float64\n",
      " 13  N       1150 non-null   float64\n",
      " 14  O       1150 non-null   float64\n",
      " 15  P       1150 non-null   float64\n",
      " 16  Q       1150 non-null   float64\n",
      " 17  R       1150 non-null   float64\n",
      " 18  S       1150 non-null   int64  \n",
      " 19  T       1150 non-null   int64  \n",
      "dtypes: float64(10), int64(10)\n",
      "memory usage: 179.8 KB\n"
     ]
    }
   ],
   "source": [
    "raw_data.info()"
   ]
  },
  {
   "cell_type": "markdown",
   "id": "2f81d169",
   "metadata": {},
   "source": [
    "Since each column has exactly 1150 non-null values, we can determine that there are no null values that need to be removed. It was also mentioned that some of the columns of the data have already been normalized."
   ]
  },
  {
   "cell_type": "markdown",
   "id": "10fadaa1",
   "metadata": {},
   "source": [
    "### Pre-processing the data"
   ]
  },
  {
   "cell_type": "markdown",
   "id": "299b295a",
   "metadata": {},
   "source": [
    "At a quick glance of the data, we can see that in the columns that do not have binary values, there are values of 0. It can be assumed that these values of 0 were meant to be empty, but they are set to 0 as a placeholder. Therefore, the data will need to be cleaned of these values before proceeding in order to get a more accurate model.\n",
    "\n",
    "Also, it will be a bit confusing going forward if the column values remain as arbitary letters that are difficult to identify at a glance, so these will be changed into more appropriate labels."
   ]
  },
  {
   "cell_type": "code",
   "execution_count": 129,
   "id": "c2926fbc",
   "metadata": {},
   "outputs": [],
   "source": [
    "renamed_data = raw_data.rename(columns = {\n",
    "    \"A\": \"qa\",\n",
    "    \"B\": \"ps\",\n",
    "    \"C\": \"ma.a\",\n",
    "    \"D\": \"ma.b\",\n",
    "    \"E\": \"ma.c\",\n",
    "    \"F\": \"ma.d\",\n",
    "    \"G\": \"ma.e\",\n",
    "    \"H\": \"ma.f\",\n",
    "    \"I\": \"ex.a\",\n",
    "    \"J\": \"ex.b\",\n",
    "    \"K\": \"ex.c\",\n",
    "    \"L\": \"ex.d\",\n",
    "    \"M\": \"ex.e\",\n",
    "    \"N\": \"ex.f\",\n",
    "    \"O\": \"ex.g\",\n",
    "    \"P\": \"ex.h\",\n",
    "    \"Q\": \"dd\",\n",
    "    \"R\": \"dod\",\n",
    "    \"S\": \"amfm\",\n",
    "    \"T\": \"dr\"\n",
    "})\n",
    "\n",
    "data = renamed_data[renamed_data[\"ex.a\"] != 0]\n",
    "data = data[data[\"ex.b\"] != 0]\n",
    "data = data[data[\"ex.c\"] != 0]\n",
    "data = data[data[\"ex.d\"] != 0]\n",
    "data = data[data[\"ex.e\"] != 0]\n",
    "data = data[data[\"ex.f\"] != 0]\n",
    "data = data[data[\"ex.g\"] != 0]\n",
    "data = data[data[\"ex.h\"] != 0]"
   ]
  },
  {
   "cell_type": "markdown",
   "id": "9aeed6fa",
   "metadata": {},
   "source": [
    "### Scaling the data"
   ]
  },
  {
   "cell_type": "code",
   "execution_count": 146,
   "id": "9b700178",
   "metadata": {},
   "outputs": [],
   "source": [
    "targets = data.loc[:, [\"dr\"]]\n",
    "unscaled_inputs = data.iloc[:, 0:-1]"
   ]
  },
  {
   "cell_type": "code",
   "execution_count": 147,
   "id": "69a1e3f4",
   "metadata": {},
   "outputs": [],
   "source": [
    "from sklearn.preprocessing import StandardScaler\n",
    "\n",
    "scaler = StandardScaler()\n",
    "scaler.fit(unscaled_inputs)\n",
    "scaled_inputs = scaler.transform(unscaled_inputs)"
   ]
  },
  {
   "cell_type": "markdown",
   "id": "e17fb329",
   "metadata": {},
   "source": [
    "The data is scaled to improve the performance of the model."
   ]
  },
  {
   "cell_type": "markdown",
   "id": "3839957e",
   "metadata": {},
   "source": [
    "### Splitting the data into train and test"
   ]
  },
  {
   "cell_type": "code",
   "execution_count": 148,
   "id": "72dbf84a",
   "metadata": {},
   "outputs": [],
   "source": [
    "from sklearn.model_selection import train_test_split\n",
    "\n",
    "train_test_split(scaled_inputs, targets)\n",
    "x_train, x_test, y_train, y_test = train_test_split(scaled_inputs, targets, train_size = 0.7, random_state = 5)"
   ]
  },
  {
   "cell_type": "markdown",
   "id": "28ee1d17",
   "metadata": {},
   "source": [
    "This is where we split the data into training and testing data, which we will use to evaluate the significance and accuracy of our model (also known as cross-validation). From the sklearn.model_selection library, we import the train_test_split method which is used to split the testing and training data. The data is split so that overfitting can be reduced within the data model.\n",
    "\n",
    "<i>Train_size</i> is used to set the training data size. A value of 0.7 means that the train-test split is 70:30.\n",
    "\n",
    "<i>Random_state</i> helps maintain consistency when running as we will get the same split every time. This is the same as inputting a seed."
   ]
  },
  {
   "cell_type": "markdown",
   "id": "a83be53b",
   "metadata": {},
   "source": [
    "### Training the model"
   ]
  },
  {
   "cell_type": "code",
   "execution_count": 151,
   "id": "7313079c",
   "metadata": {},
   "outputs": [
    {
     "data": {
      "text/plain": [
       "0.8246268656716418"
      ]
     },
     "execution_count": 151,
     "metadata": {},
     "output_type": "execute_result"
    }
   ],
   "source": [
    "from sklearn.linear_model import LogisticRegression\n",
    "\n",
    "lr = LogisticRegression()\n",
    "lr.fit(x_train, y_train.values.ravel())\n",
    "lr.score(x_train, y_train)"
   ]
  },
  {
   "cell_type": "markdown",
   "id": "dd10cf20",
   "metadata": {},
   "source": [
    "The scaled data is then fed to the logistic regression model, and a model has been obtained. As you can see we have obtained a score of 0.82, or 82% which is not bad. However we will need to test our model to see if this obtained accuracy is accurate."
   ]
  },
  {
   "cell_type": "markdown",
   "id": "ec43a0ca",
   "metadata": {},
   "source": [
    "### Finding the intercept and coefficients"
   ]
  },
  {
   "cell_type": "code",
   "execution_count": 135,
   "id": "a4d692d4",
   "metadata": {},
   "outputs": [
    {
     "data": {
      "text/html": [
       "<div>\n",
       "<style scoped>\n",
       "    .dataframe tbody tr th:only-of-type {\n",
       "        vertical-align: middle;\n",
       "    }\n",
       "\n",
       "    .dataframe tbody tr th {\n",
       "        vertical-align: top;\n",
       "    }\n",
       "\n",
       "    .dataframe thead th {\n",
       "        text-align: right;\n",
       "    }\n",
       "</style>\n",
       "<table border=\"1\" class=\"dataframe\">\n",
       "  <thead>\n",
       "    <tr style=\"text-align: right;\">\n",
       "      <th></th>\n",
       "      <th>Variable Name</th>\n",
       "      <th>Coefficient</th>\n",
       "      <th>Odds Ratio</th>\n",
       "    </tr>\n",
       "  </thead>\n",
       "  <tbody>\n",
       "    <tr>\n",
       "      <th>0</th>\n",
       "      <td>qa</td>\n",
       "      <td>0.000000</td>\n",
       "      <td>1.000000</td>\n",
       "    </tr>\n",
       "    <tr>\n",
       "      <th>1</th>\n",
       "      <td>ps</td>\n",
       "      <td>-0.440105</td>\n",
       "      <td>0.643969</td>\n",
       "    </tr>\n",
       "    <tr>\n",
       "      <th>2</th>\n",
       "      <td>ma.a</td>\n",
       "      <td>2.267613</td>\n",
       "      <td>9.656324</td>\n",
       "    </tr>\n",
       "    <tr>\n",
       "      <th>3</th>\n",
       "      <td>ma.b</td>\n",
       "      <td>0.914622</td>\n",
       "      <td>2.495832</td>\n",
       "    </tr>\n",
       "    <tr>\n",
       "      <th>4</th>\n",
       "      <td>ma.c</td>\n",
       "      <td>0.115852</td>\n",
       "      <td>1.122830</td>\n",
       "    </tr>\n",
       "    <tr>\n",
       "      <th>5</th>\n",
       "      <td>ma.d</td>\n",
       "      <td>-0.599861</td>\n",
       "      <td>0.548888</td>\n",
       "    </tr>\n",
       "    <tr>\n",
       "      <th>6</th>\n",
       "      <td>ma.e</td>\n",
       "      <td>-0.298140</td>\n",
       "      <td>0.742198</td>\n",
       "    </tr>\n",
       "    <tr>\n",
       "      <th>7</th>\n",
       "      <td>ma.f</td>\n",
       "      <td>-0.951826</td>\n",
       "      <td>0.386035</td>\n",
       "    </tr>\n",
       "    <tr>\n",
       "      <th>8</th>\n",
       "      <td>ex.a</td>\n",
       "      <td>0.565952</td>\n",
       "      <td>1.761123</td>\n",
       "    </tr>\n",
       "    <tr>\n",
       "      <th>9</th>\n",
       "      <td>ex.b</td>\n",
       "      <td>-0.230303</td>\n",
       "      <td>0.794293</td>\n",
       "    </tr>\n",
       "    <tr>\n",
       "      <th>10</th>\n",
       "      <td>ex.c</td>\n",
       "      <td>-0.251784</td>\n",
       "      <td>0.777413</td>\n",
       "    </tr>\n",
       "    <tr>\n",
       "      <th>11</th>\n",
       "      <td>ex.d</td>\n",
       "      <td>-0.458985</td>\n",
       "      <td>0.631924</td>\n",
       "    </tr>\n",
       "    <tr>\n",
       "      <th>12</th>\n",
       "      <td>ex.e</td>\n",
       "      <td>0.568105</td>\n",
       "      <td>1.764919</td>\n",
       "    </tr>\n",
       "    <tr>\n",
       "      <th>13</th>\n",
       "      <td>ex.f</td>\n",
       "      <td>-0.232827</td>\n",
       "      <td>0.792291</td>\n",
       "    </tr>\n",
       "    <tr>\n",
       "      <th>14</th>\n",
       "      <td>ex.g</td>\n",
       "      <td>1.400340</td>\n",
       "      <td>4.056578</td>\n",
       "    </tr>\n",
       "    <tr>\n",
       "      <th>15</th>\n",
       "      <td>ex.h</td>\n",
       "      <td>1.330142</td>\n",
       "      <td>3.781582</td>\n",
       "    </tr>\n",
       "    <tr>\n",
       "      <th>16</th>\n",
       "      <td>dd</td>\n",
       "      <td>0.422984</td>\n",
       "      <td>1.526509</td>\n",
       "    </tr>\n",
       "    <tr>\n",
       "      <th>17</th>\n",
       "      <td>dod</td>\n",
       "      <td>-0.310052</td>\n",
       "      <td>0.733409</td>\n",
       "    </tr>\n",
       "    <tr>\n",
       "      <th>18</th>\n",
       "      <td>amfm</td>\n",
       "      <td>-0.064964</td>\n",
       "      <td>0.937102</td>\n",
       "    </tr>\n",
       "  </tbody>\n",
       "</table>\n",
       "</div>"
      ],
      "text/plain": [
       "   Variable Name  Coefficient  Odds Ratio\n",
       "0             qa     0.000000    1.000000\n",
       "1             ps    -0.440105    0.643969\n",
       "2           ma.a     2.267613    9.656324\n",
       "3           ma.b     0.914622    2.495832\n",
       "4           ma.c     0.115852    1.122830\n",
       "5           ma.d    -0.599861    0.548888\n",
       "6           ma.e    -0.298140    0.742198\n",
       "7           ma.f    -0.951826    0.386035\n",
       "8           ex.a     0.565952    1.761123\n",
       "9           ex.b    -0.230303    0.794293\n",
       "10          ex.c    -0.251784    0.777413\n",
       "11          ex.d    -0.458985    0.631924\n",
       "12          ex.e     0.568105    1.764919\n",
       "13          ex.f    -0.232827    0.792291\n",
       "14          ex.g     1.400340    4.056578\n",
       "15          ex.h     1.330142    3.781582\n",
       "16            dd     0.422984    1.526509\n",
       "17           dod    -0.310052    0.733409\n",
       "18          amfm    -0.064964    0.937102"
      ]
     },
     "execution_count": 135,
     "metadata": {},
     "output_type": "execute_result"
    }
   ],
   "source": [
    "variable_name = inputs.columns.values\n",
    "summary_table = pd.DataFrame(columns = [\"Variable Name\"], data = variable_name)\n",
    "summary_table[\"Coefficient\"] = np.transpose(lr.coef_)\n",
    "summary_table[\"Odds Ratio\"] = np.exp(summary_table.Coefficient)\n",
    "summary_table"
   ]
  },
  {
   "cell_type": "markdown",
   "id": "ea4aecec",
   "metadata": {},
   "source": [
    "This table lists all the coefficients and the odds ratio of each variable in the model. This can give us a general idea of the level of impact that each variable has on determining if one has diabetes or not. The odds ratio tells us that at low confidence levels, high levels of MAs are the strongest indicators of one having diabetes, whereas at high confidence levels this changes to the exudate levels, since these values are the largest."
   ]
  },
  {
   "cell_type": "markdown",
   "id": "17af5583",
   "metadata": {},
   "source": [
    "### Evaluating the model (via testing)"
   ]
  },
  {
   "cell_type": "code",
   "execution_count": 156,
   "id": "cd6ef0e2",
   "metadata": {},
   "outputs": [
    {
     "data": {
      "text/plain": [
       "0.7327586206896551"
      ]
     },
     "execution_count": 156,
     "metadata": {},
     "output_type": "execute_result"
    }
   ],
   "source": [
    "from sklearn.metrics import accuracy_score\n",
    "from sklearn.metrics import confusion_matrix\n",
    "\n",
    "lr.score(x_test, y_test)\n",
    "\n",
    "# cm = confusion_matrix(x_test, y_test.values.ravel())\n",
    "# print(\"Confusion Matrix:\\n\", cm)"
   ]
  },
  {
   "cell_type": "markdown",
   "id": "2dbb6a1f",
   "metadata": {},
   "source": [
    "Using the testing data that we obtained from splitting the initial data up, we can test our model. The accuracy of this model is 0.73, or 73%, which differs from the 82% accuracy that we obtained earlier. However they are similar enough in range to say that this is a good model. In the literature review, it was mentioned that an accuracy score of 92.3% was achieved, which I was unable to get close to. This may have been due to either the quality of the data, or the method that I have employed."
   ]
  },
  {
   "cell_type": "markdown",
   "id": "c8e58c25",
   "metadata": {},
   "source": [
    "### Graphing the logistic regression curve"
   ]
  },
  {
   "cell_type": "markdown",
   "id": "2985f084",
   "metadata": {},
   "source": [
    "To visually represent the model, we can plot the data onto a scatter graph and then draw a logistic regression curve over the data using the seaborn library. Each column can be used to plot a logistic regression curve, but for the purpose of this demonstration I have used the exudate detection levels and the micro aneurysm levels."
   ]
  },
  {
   "cell_type": "markdown",
   "id": "fe9bb30e",
   "metadata": {},
   "source": [
    "#### Exudate Detection"
   ]
  },
  {
   "cell_type": "code",
   "execution_count": 159,
   "id": "909ee66d",
   "metadata": {},
   "outputs": [
    {
     "data": {
      "text/plain": [
       "[Text(0.5, 0, 'Exudate Detection'), Text(0, 0.5, 'Probability of DR')]"
      ]
     },
     "execution_count": 159,
     "metadata": {},
     "output_type": "execute_result"
    },
    {
     "data": {
      "image/png": "[encoded data removed]",
      "text/plain": [
       "<Figure size 640x480 with 1 Axes>"
      ]
     },
     "metadata": {},
     "output_type": "display_data"
    }
   ],
   "source": [
    "import seaborn as sns\n",
    "\n",
    "x = data[\"ex.g\"]\n",
    "y = data[\"dr\"]\n",
    "\n",
    "lrc = sns.regplot(x = x, y = y, data = data, logistic = True, ci = None, line_kws = {\"color\" : \"black\"})\n",
    "lrc.set(xlabel = \"Exudate Detection\", ylabel = \"Probability of DR\")"
   ]
  },
  {
   "cell_type": "markdown",
   "id": "72eb4d89",
   "metadata": {},
   "source": [
    "#### MA Detection"
   ]
  },
  {
   "cell_type": "code",
   "execution_count": 137,
   "id": "71db28b1",
   "metadata": {},
   "outputs": [
    {
     "data": {
      "text/plain": [
       "[Text(0.5, 0, 'MA Detection'), Text(0, 0.5, 'Probability of DR')]"
      ]
     },
     "execution_count": 137,
     "metadata": {},
     "output_type": "execute_result"
    },
    {
     "data": {
      "image/png": "[encoded data removed]",
      "text/plain": [
       "<Figure size 640x480 with 1 Axes>"
      ]
     },
     "metadata": {},
     "output_type": "display_data"
    }
   ],
   "source": [
    "x = data[\"ma.a\"]\n",
    "\n",
    "lrc = sns.regplot(x = x, y = y, data = data, logistic = True, ci = None, line_kws = {\"color\" : \"black\"})\n",
    "lrc.set(xlabel = \"MA Detection\", ylabel = \"Probability of DR\")"
   ]
  },
  {
   "cell_type": "markdown",
   "id": "622ceae2",
   "metadata": {},
   "source": [
    "These graphs show us the probability chance one has of having diabetes, dependent on the respective MA/exudate levels."
   ]
  },
  {
   "cell_type": "code",
   "execution_count": null,
   "id": "d25b0008",
   "metadata": {},
   "outputs": [],
   "source": []
  }
 ],
 "metadata": {
  "kernelspec": {
   "display_name": "Python 3 (ipykernel)",
   "language": "python",
   "name": "python3"
  },
  "language_info": {
   "codemirror_mode": {
    "name": "ipython",
    "version": 3
   },
   "file_extension": ".py",
   "mimetype": "text/x-python",
   "name": "python",
   "nbconvert_exporter": "python",
   "pygments_lexer": "ipython3",
   "version": "3.9.13"
  }
 },
 "nbformat": 4,
 "nbformat_minor": 5
}
